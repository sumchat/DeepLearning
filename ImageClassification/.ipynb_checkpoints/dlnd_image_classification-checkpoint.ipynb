{
 "cells": [
  {
   "cell_type": "markdown",
   "metadata": {
    "collapsed": true,
    "deletable": true,
    "editable": true
   },
   "source": [
    "# Image Classification\n",
    "In this project, you'll classify images from the [CIFAR-10 dataset](https://www.cs.toronto.edu/~kriz/cifar.html).  The dataset consists of airplanes, dogs, cats, and other objects. You'll preprocess the images, then train a convolutional neural network on all the samples. The images need to be normalized and the labels need to be one-hot encoded.  You'll get to apply what you learned and build a convolutional, max pooling, dropout, and fully connected layers.  At the end, you'll get to see your neural network's predictions on the sample images.\n",
    "## Get the Data\n",
    "Run the following cell to download the [CIFAR-10 dataset for python](https://www.cs.toronto.edu/~kriz/cifar-10-python.tar.gz)."
   ]
  },
  {
   "cell_type": "code",
   "execution_count": 1,
   "metadata": {
    "collapsed": false,
    "deletable": true,
    "editable": true
   },
   "outputs": [
    {
     "name": "stdout",
     "output_type": "stream",
     "text": [
      "All files found!\n"
     ]
    }
   ],
   "source": [
    "\"\"\"\n",
    "DON'T MODIFY ANYTHING IN THIS CELL THAT IS BELOW THIS LINE\n",
    "\"\"\"\n",
    "from urllib.request import urlretrieve\n",
    "from os.path import isfile, isdir\n",
    "from tqdm import tqdm\n",
    "import problem_unittests as tests\n",
    "import tarfile\n",
    "\n",
    "cifar10_dataset_folder_path = 'cifar-10-batches-py'\n",
    "\n",
    "class DLProgress(tqdm):\n",
    "    last_block = 0\n",
    "\n",
    "    def hook(self, block_num=1, block_size=1, total_size=None):\n",
    "        self.total = total_size\n",
    "        self.update((block_num - self.last_block) * block_size)\n",
    "        self.last_block = block_num\n",
    "\n",
    "if not isfile('cifar-10-python.tar.gz'):\n",
    "    with DLProgress(unit='B', unit_scale=True, miniters=1, desc='CIFAR-10 Dataset') as pbar:\n",
    "        urlretrieve(\n",
    "            'https://www.cs.toronto.edu/~kriz/cifar-10-python.tar.gz',\n",
    "            'cifar-10-python.tar.gz',\n",
    "            pbar.hook)\n",
    "\n",
    "if not isdir(cifar10_dataset_folder_path):\n",
    "    with tarfile.open('cifar-10-python.tar.gz') as tar:\n",
    "        tar.extractall()\n",
    "        tar.close()\n",
    "\n",
    "\n",
    "tests.test_folder_path(cifar10_dataset_folder_path)"
   ]
  },
  {
   "cell_type": "markdown",
   "metadata": {
    "deletable": true,
    "editable": true
   },
   "source": [
    "## Explore the Data\n",
    "The dataset is broken into batches to prevent your machine from running out of memory.  The CIFAR-10 dataset consists of 5 batches, named `data_batch_1`, `data_batch_2`, etc.. Each batch contains the labels and images that are one of the following:\n",
    "* airplane\n",
    "* automobile\n",
    "* bird\n",
    "* cat\n",
    "* deer\n",
    "* dog\n",
    "* frog\n",
    "* horse\n",
    "* ship\n",
    "* truck\n",
    "\n",
    "Understanding a dataset is part of making predictions on the data.  Play around with the code cell below by changing the `batch_id` and `sample_id`. The `batch_id` is the id for a batch (1-5). The `sample_id` is the id for a image and label pair in the batch.\n",
    "\n",
    "Ask yourself \"What are all possible labels?\", \"What is the range of values for the image data?\", \"Are the labels in order or random?\".  Answers to questions like these will help you preprocess the data and end up with better predictions."
   ]
  },
  {
   "cell_type": "code",
   "execution_count": 2,
   "metadata": {
    "collapsed": false,
    "deletable": true,
    "editable": true
   },
   "outputs": [
    {
     "name": "stdout",
     "output_type": "stream",
     "text": [
      "\n",
      "Stats of batch 1:\n",
      "Samples: 10000\n",
      "Label Counts: {0: 1005, 1: 974, 2: 1032, 3: 1016, 4: 999, 5: 937, 6: 1030, 7: 1001, 8: 1025, 9: 981}\n",
      "First 20 Labels: [6, 9, 9, 4, 1, 1, 2, 7, 8, 3, 4, 7, 7, 2, 9, 9, 9, 3, 2, 6]\n",
      "\n",
      "Example of Image 5:\n",
      "Image - Min Value: 0 Max Value: 252\n",
      "Image - Shape: (32, 32, 3)\n",
      "Label - Label Id: 1 Name: automobile\n"
     ]
    },
    {
     "data": {
      "image/png": "[encoded data removed]",
      "text/plain": [
       "<matplotlib.figure.Figure at 0x7fc58b992320>"
      ]
     },
     "metadata": {
      "image/png": {
       "height": 250,
       "width": 253
      }
     },
     "output_type": "display_data"
    }
   ],
   "source": [
    "%matplotlib inline\n",
    "%config InlineBackend.figure_format = 'retina'\n",
    "\n",
    "import helper\n",
    "import numpy as np\n",
    "\n",
    "# Explore the dataset\n",
    "batch_id = 1\n",
    "sample_id = 5\n",
    "helper.display_stats(cifar10_dataset_folder_path, batch_id, sample_id)"
   ]
  },
  {
   "cell_type": "markdown",
   "metadata": {
    "deletable": true,
    "editable": true
   },
   "source": [
    "## Implement Preprocess Functions\n",
    "### Normalize\n",
    "In the cell below, implement the `normalize` function to take in image data, `x`, and return it as a normalized Numpy array. The values should be in the range of 0 to 1, inclusive.  The return object should be the same shape as `x`."
   ]
  },
  {
   "cell_type": "code",
   "execution_count": 3,
   "metadata": {
    "collapsed": false,
    "deletable": true,
    "editable": true
   },
   "outputs": [
    {
     "name": "stdout",
     "output_type": "stream",
     "text": [
      "Tests Passed\n"
     ]
    }
   ],
   "source": [
    "def normalize(x):\n",
    "    \"\"\"\n",
    "    Normalize a list of sample image data in the range of 0 to 1\n",
    "    : x: List of image data.  The image shape is (32, 32, 3)\n",
    "    : return: Numpy array of normalize data\n",
    "    \"\"\"\n",
    "    # TODO: Implement Function\n",
    "    x_min = x.min(axis=(0, 1), keepdims=True)\n",
    "    x_max = x.max(axis=(0, 1), keepdims=True)\n",
    "    x = (x - x_min)/(x_max - x_min)\n",
    "    \n",
    "    return x\n",
    "\n",
    "\n",
    "\"\"\"\n",
    "DON'T MODIFY ANYTHING IN THIS CELL THAT IS BELOW THIS LINE\n",
    "\"\"\"\n",
    "tests.test_normalize(normalize)"
   ]
  },
  {
   "cell_type": "markdown",
   "metadata": {
    "deletable": true,
    "editable": true
   },
   "source": [
    "### One-hot encode\n",
    "Just like the previous code cell, you'll be implementing a function for preprocessing.  This time, you'll implement the `one_hot_encode` function. The input, `x`, are a list of labels.  Implement the function to return the list of labels as One-Hot encoded Numpy array.  The possible values for labels are 0 to 9. The one-hot encoding function should return the same encoding for each value between each call to `one_hot_encode`.  Make sure to save the map of encodings outside the function.\n",
    "\n",
    "Hint: Don't reinvent the wheel."
   ]
  },
  {
   "cell_type": "code",
   "execution_count": 4,
   "metadata": {
    "collapsed": false,
    "deletable": true,
    "editable": true
   },
   "outputs": [
    {
     "name": "stdout",
     "output_type": "stream",
     "text": [
      "Tests Passed\n"
     ]
    }
   ],
   "source": [
    "from sklearn.preprocessing import OneHotEncoder\n",
    "def one_hot_encode(x):\n",
    "    \"\"\"\n",
    "    One hot encode a list of sample labels. Return a one-hot encoded vector for each label.\n",
    "    : x: List of sample Labels\n",
    "    : return: Numpy array of one-hot encoded labels\n",
    "    \"\"\"\n",
    "    # TODO: Implement Function\n",
    "    x = np.array(x)\n",
    "    x = x.reshape(-1,1)\n",
    "    encoder = OneHotEncoder(n_values=10)    \n",
    "    labels = encoder.fit_transform(x)        \n",
    "    \n",
    "\n",
    "    return labels.toarray()\n",
    "\n",
    "\n",
    "\"\"\"\n",
    "DON'T MODIFY ANYTHING IN THIS CELL THAT IS BELOW THIS LINE\n",
    "\"\"\"\n",
    "tests.test_one_hot_encode(one_hot_encode)"
   ]
  },
  {
   "cell_type": "markdown",
   "metadata": {
    "deletable": true,
    "editable": true
   },
   "source": [
    "### Randomize Data\n",
    "As you saw from exploring the data above, the order of the samples are randomized.  It doesn't hurt to randomize it again, but you don't need to for this dataset."
   ]
  },
  {
   "cell_type": "markdown",
   "metadata": {
    "deletable": true,
    "editable": true
   },
   "source": [
    "## Preprocess all the data and save it\n",
    "Running the code cell below will preprocess all the CIFAR-10 data and save it to file. The code below also uses 10% of the training data for validation."
   ]
  },
  {
   "cell_type": "code",
   "execution_count": 5,
   "metadata": {
    "collapsed": false,
    "deletable": true,
    "editable": true
   },
   "outputs": [],
   "source": [
    "\"\"\"\n",
    "DON'T MODIFY ANYTHING IN THIS CELL\n",
    "\"\"\"\n",
    "# Preprocess Training, Validation, and Testing Data\n",
    "helper.preprocess_and_save_data(cifar10_dataset_folder_path, normalize, one_hot_encode)"
   ]
  },
  {
   "cell_type": "markdown",
   "metadata": {
    "deletable": true,
    "editable": true
   },
   "source": [
    "# Check Point\n",
    "This is your first checkpoint.  If you ever decide to come back to this notebook or have to restart the notebook, you can start from here.  The preprocessed data has been saved to disk."
   ]
  },
  {
   "cell_type": "code",
   "execution_count": 6,
   "metadata": {
    "collapsed": true,
    "deletable": true,
    "editable": true
   },
   "outputs": [],
   "source": [
    "\"\"\"\n",
    "DON'T MODIFY ANYTHING IN THIS CELL\n",
    "\"\"\"\n",
    "import pickle\n",
    "import problem_unittests as tests\n",
    "import helper\n",
    "\n",
    "# Load the Preprocessed Validation data\n",
    "valid_features, valid_labels = pickle.load(open('preprocess_validation.p', mode='rb'))"
   ]
  },
  {
   "cell_type": "markdown",
   "metadata": {
    "deletable": true,
    "editable": true
   },
   "source": [
    "## Build the network\n",
    "For the neural network, you'll build each layer into a function.  Most of the code you've seen has been outside of functions. To test your code more thoroughly, we require that you put each layer in a function.  This allows us to give you better feedback and test for simple mistakes using our unittests before you submit your project.\n",
    "\n",
    ">**Note:** If you're finding it hard to dedicate enough time for this course each week, we've provided a small shortcut to this part of the project. In the next couple of problems, you'll have the option to use classes from the [TensorFlow Layers](https://www.tensorflow.org/api_docs/python/tf/layers) or [TensorFlow Layers (contrib)](https://www.tensorflow.org/api_guides/python/contrib.layers) packages to build each layer, except the layers you build in the \"Convolutional and Max Pooling Layer\" section.  TF Layers is similar to Keras's and TFLearn's abstraction to layers, so it's easy to pickup.\n",
    "\n",
    ">However, if you would like to get the most out of this course, try to solve all the problems _without_ using anything from the TF Layers packages. You **can** still use classes from other packages that happen to have the same name as ones you find in TF Layers! For example, instead of using the TF Layers version of the `conv2d` class, [tf.layers.conv2d](https://www.tensorflow.org/api_docs/python/tf/layers/conv2d), you would want to use the TF Neural Network version of `conv2d`, [tf.nn.conv2d](https://www.tensorflow.org/api_docs/python/tf/nn/conv2d). \n",
    "\n",
    "Let's begin!\n",
    "\n",
    "### Input\n",
    "The neural network needs to read the image data, one-hot encoded labels, and dropout keep probability. Implement the following functions\n",
    "* Implement `neural_net_image_input`\n",
    " * Return a [TF Placeholder](https://www.tensorflow.org/api_docs/python/tf/placeholder)\n",
    " * Set the shape using `image_shape` with batch size set to `None`.\n",
    " * Name the TensorFlow placeholder \"x\" using the TensorFlow `name` parameter in the [TF Placeholder](https://www.tensorflow.org/api_docs/python/tf/placeholder).\n",
    "* Implement `neural_net_label_input`\n",
    " * Return a [TF Placeholder](https://www.tensorflow.org/api_docs/python/tf/placeholder)\n",
    " * Set the shape using `n_classes` with batch size set to `None`.\n",
    " * Name the TensorFlow placeholder \"y\" using the TensorFlow `name` parameter in the [TF Placeholder](https://www.tensorflow.org/api_docs/python/tf/placeholder).\n",
    "* Implement `neural_net_keep_prob_input`\n",
    " * Return a [TF Placeholder](https://www.tensorflow.org/api_docs/python/tf/placeholder) for dropout keep probability.\n",
    " * Name the TensorFlow placeholder \"keep_prob\" using the TensorFlow `name` parameter in the [TF Placeholder](https://www.tensorflow.org/api_docs/python/tf/placeholder).\n",
    "\n",
    "These names will be used at the end of the project to load your saved model.\n",
    "\n",
    "Note: `None` for shapes in TensorFlow allow for a dynamic size."
   ]
  },
  {
   "cell_type": "code",
   "execution_count": 7,
   "metadata": {
    "collapsed": false,
    "deletable": true,
    "editable": true
   },
   "outputs": [
    {
     "name": "stdout",
     "output_type": "stream",
     "text": [
      "Image Input Tests Passed.\n",
      "Label Input Tests Passed.\n",
      "Keep Prob Tests Passed.\n"
     ]
    }
   ],
   "source": [
    "import tensorflow as tf\n",
    "\n",
    "def neural_net_image_input(image_shape):\n",
    "    \"\"\"\n",
    "    Return a Tensor for a bach of image input\n",
    "    : image_shape: Shape of the images\n",
    "    : return: Tensor for image input.\n",
    "    \"\"\"\n",
    "    # TODO: Implement Function\n",
    "    image_width = image_shape[0]\n",
    "    image_height = image_shape[1]\n",
    "    num_channels = image_shape[2]\n",
    "    input_shape = (None,image_width,image_height,num_channels)\n",
    "    x_input = tf.placeholder(tf.float32, shape=input_shape, name = \"x\")\n",
    "    \n",
    "    return x_input\n",
    "\n",
    "\n",
    "def neural_net_label_input(n_classes):\n",
    "    \"\"\"\n",
    "    Return a Tensor for a batch of label input\n",
    "    : n_classes: Number of classes\n",
    "    : return: Tensor for label input.\n",
    "    \"\"\"\n",
    "    # TODO: Implement Function\n",
    "    y_label = tf.placeholder(tf.float32, [None,n_classes], name = \"y\")\n",
    "\n",
    "    return y_label\n",
    "\n",
    "\n",
    "def neural_net_keep_prob_input():\n",
    "    \"\"\"\n",
    "    Return a Tensor for keep probability\n",
    "    : return: Tensor for keep probability.\n",
    "    \"\"\"\n",
    "    # TODO: Implement Function\n",
    "    keep_prob =  tf.placeholder(tf.float32,name=\"keep_prob\")\n",
    "    return keep_prob\n",
    "\n",
    "\n",
    "\"\"\"\n",
    "DON'T MODIFY ANYTHING IN THIS CELL THAT IS BELOW THIS LINE\n",
    "\"\"\"\n",
    "tf.reset_default_graph()\n",
    "tests.test_nn_image_inputs(neural_net_image_input)\n",
    "tests.test_nn_label_inputs(neural_net_label_input)\n",
    "tests.test_nn_keep_prob_inputs(neural_net_keep_prob_input)"
   ]
  },
  {
   "cell_type": "markdown",
   "metadata": {
    "deletable": true,
    "editable": true
   },
   "source": [
    "### Convolution and Max Pooling Layer\n",
    "Convolution layers have a lot of success with images. For this code cell, you should implement the function `conv2d_maxpool` to apply convolution then max pooling:\n",
    "* Create the weight and bias using `conv_ksize`, `conv_num_outputs` and the shape of `x_tensor`.\n",
    "* Apply a convolution to `x_tensor` using weight and `conv_strides`.\n",
    " * We recommend you use same padding, but you're welcome to use any padding.\n",
    "* Add bias\n",
    "* Add a nonlinear activation to the convolution.\n",
    "* Apply Max Pooling using `pool_ksize` and `pool_strides`.\n",
    " * We recommend you use same padding, but you're welcome to use any padding.\n",
    "\n",
    "**Note:** You **can't** use [TensorFlow Layers](https://www.tensorflow.org/api_docs/python/tf/layers) or [TensorFlow Layers (contrib)](https://www.tensorflow.org/api_guides/python/contrib.layers) for **this** layer, but you can still use TensorFlow's [Neural Network](https://www.tensorflow.org/api_docs/python/tf/nn) package. You may still use the shortcut option for all the **other** layers."
   ]
  },
  {
   "cell_type": "code",
   "execution_count": 8,
   "metadata": {
    "collapsed": false,
    "deletable": true,
    "editable": true
   },
   "outputs": [
    {
     "name": "stdout",
     "output_type": "stream",
     "text": [
      "Tests Passed\n"
     ]
    }
   ],
   "source": [
    "def conv2d_maxpool(x_tensor, conv_num_outputs, conv_ksize, conv_strides, pool_ksize, pool_strides):\n",
    "    \"\"\"\n",
    "    Apply convolution then max pooling to x_tensor\n",
    "    :param x_tensor: TensorFlow Tensor\n",
    "    :param conv_num_outputs: Number of outputs for the convolutional layer\n",
    "    :param conv_ksize: kernal size 2-D Tuple for the convolutional layer\n",
    "    :param conv_strides: Stride 2-D Tuple for convolution\n",
    "    :param pool_ksize: kernal size 2-D Tuple for pool\n",
    "    :param pool_strides: Stride 2-D Tuple for pool\n",
    "    : return: A tensor that represents convolution and max pooling of x_tensor\n",
    "    \"\"\"\n",
    "    # TODO: Implement Function\n",
    "    input_ksize = x_tensor.get_shape()[3].value\n",
    "    filtersize_height = conv_ksize[0]\n",
    "    filtersize_width = conv_ksize[1]\n",
    "    \n",
    "    W = tf.Variable(tf.truncated_normal([filtersize_height,filtersize_width,input_ksize,conv_num_outputs],stddev=0.01,dtype=tf.float32))\n",
    "   \n",
    "     \n",
    "    b = tf.Variable(tf.zeros(conv_num_outputs), dtype=tf.float32, name='biases')\n",
    "    \n",
    "    conv1 = tf.nn.conv2d(x_tensor, W, strides = [1,conv_strides[0],conv_strides[1],1], padding='SAME')\n",
    "    \n",
    "    conv1 = tf.nn.bias_add(conv1, b)\n",
    "   \n",
    "    conv1 = tf.nn.relu(conv1)\n",
    "    \n",
    "    pool_conv1 = tf.nn.max_pool(conv1, ksize=[1,pool_ksize[0],pool_ksize[1],1], strides=[1,pool_strides[0],pool_strides[1],1],padding='SAME')\n",
    "      \n",
    "   \n",
    "\n",
    "   \n",
    "\n",
    "    return pool_conv1 \n",
    "\n",
    "\n",
    "\"\"\"\n",
    "DON'T MODIFY ANYTHING IN THIS CELL THAT IS BELOW THIS LINE\n",
    "\"\"\"\n",
    "tests.test_con_pool(conv2d_maxpool)"
   ]
  },
  {
   "cell_type": "markdown",
   "metadata": {
    "deletable": true,
    "editable": true
   },
   "source": [
    "### Flatten Layer\n",
    "Implement the `flatten` function to change the dimension of `x_tensor` from a 4-D tensor to a 2-D tensor.  The output should be the shape (*Batch Size*, *Flattened Image Size*). Shortcut option: you can use classes from the [TensorFlow Layers](https://www.tensorflow.org/api_docs/python/tf/layers) or [TensorFlow Layers (contrib)](https://www.tensorflow.org/api_guides/python/contrib.layers) packages for this layer. For more of a challenge, only use other TensorFlow packages."
   ]
  },
  {
   "cell_type": "code",
   "execution_count": 9,
   "metadata": {
    "collapsed": false,
    "deletable": true,
    "editable": true
   },
   "outputs": [
    {
     "name": "stdout",
     "output_type": "stream",
     "text": [
      "Tests Passed\n"
     ]
    }
   ],
   "source": [
    "def flatten(x_tensor):\n",
    "    \"\"\"\n",
    "    Flatten x_tensor to (Batch Size, Flattened Image Size)\n",
    "    : x_tensor: A tensor of size (Batch Size, ...), where ... are the image dimensions.\n",
    "    : return: A tensor of size (Batch Size, Flattened Image Size).\n",
    "    \"\"\"\n",
    "    # TODO: Implement Function\n",
    "    image_width = x_tensor.get_shape()[1].value\n",
    "    image_height = x_tensor.get_shape()[2].value\n",
    "    no_channels = x_tensor.get_shape()[3].value\n",
    "    reshaped_output = tf.reshape(x_tensor, [-1,image_width * image_height * no_channels])\n",
    "  \n",
    "    \n",
    "    return reshaped_output\n",
    "\n",
    "\n",
    "\"\"\"\n",
    "DON'T MODIFY ANYTHING IN THIS CELL THAT IS BELOW THIS LINE\n",
    "\"\"\"\n",
    "tests.test_flatten(flatten)"
   ]
  },
  {
   "cell_type": "markdown",
   "metadata": {
    "deletable": true,
    "editable": true
   },
   "source": [
    "### Fully-Connected Layer\n",
    "Implement the `fully_conn` function to apply a fully connected layer to `x_tensor` with the shape (*Batch Size*, *num_outputs*). Shortcut option: you can use classes from the [TensorFlow Layers](https://www.tensorflow.org/api_docs/python/tf/layers) or [TensorFlow Layers (contrib)](https://www.tensorflow.org/api_guides/python/contrib.layers) packages for this layer. For more of a challenge, only use other TensorFlow packages."
   ]
  },
  {
   "cell_type": "code",
   "execution_count": 10,
   "metadata": {
    "collapsed": false,
    "deletable": true,
    "editable": true
   },
   "outputs": [
    {
     "name": "stdout",
     "output_type": "stream",
     "text": [
      "Tests Passed\n"
     ]
    }
   ],
   "source": [
    "def fully_conn(x_tensor, num_outputs):\n",
    "    \"\"\"\n",
    "    Apply a fully connected layer to x_tensor using weight and bias\n",
    "    : x_tensor: A 2-D tensor where the first dimension is batch size.\n",
    "    : num_outputs: The number of output that the new tensor should be.\n",
    "    : return: A 2-D tensor where the second dimension is num_outputs.\n",
    "    \"\"\"\n",
    "    # TODO: Implement Function\n",
    "    reshaped_dim = x_tensor.get_shape().as_list()[1]\n",
    "    full_weight1 = tf.Variable(tf.truncated_normal(shape=[reshaped_dim, num_outputs],stddev=0.01, dtype=tf.float32))\n",
    "    full_bias1 = tf.Variable(tf.zeros(shape=[num_outputs], dtype=tf.float32))    \n",
    "\n",
    "    full_layer1 = tf.nn.relu(tf.add(tf.matmul(x_tensor, full_weight1), full_bias1))\n",
    "\n",
    "    return full_layer1\n",
    "\n",
    "\n",
    "\"\"\"\n",
    "DON'T MODIFY ANYTHING IN THIS CELL THAT IS BELOW THIS LINE\n",
    "\"\"\"\n",
    "tests.test_fully_conn(fully_conn)"
   ]
  },
  {
   "cell_type": "markdown",
   "metadata": {
    "deletable": true,
    "editable": true
   },
   "source": [
    "### Output Layer\n",
    "Implement the `output` function to apply a fully connected layer to `x_tensor` with the shape (*Batch Size*, *num_outputs*). Shortcut option: you can use classes from the [TensorFlow Layers](https://www.tensorflow.org/api_docs/python/tf/layers) or [TensorFlow Layers (contrib)](https://www.tensorflow.org/api_guides/python/contrib.layers) packages for this layer. For more of a challenge, only use other TensorFlow packages.\n",
    "\n",
    "**Note:** Activation, softmax, or cross entropy should **not** be applied to this."
   ]
  },
  {
   "cell_type": "code",
   "execution_count": 11,
   "metadata": {
    "collapsed": false,
    "deletable": true,
    "editable": true
   },
   "outputs": [
    {
     "name": "stdout",
     "output_type": "stream",
     "text": [
      "Tests Passed\n"
     ]
    }
   ],
   "source": [
    "def output(x_tensor, num_outputs):\n",
    "    \"\"\"\n",
    "    Apply a output layer to x_tensor using weight and bias\n",
    "    : x_tensor: A 2-D tensor where the first dimension is batch size.\n",
    "    : num_outputs: The number of output that the new tensor should be.\n",
    "    : return: A 2-D tensor where the second dimension is num_outputs.\n",
    "    \"\"\"\n",
    "    # TODO: Implement Function\n",
    "    reshaped_dim = x_tensor.get_shape()[1].value\n",
    "    full_weight3 = tf.Variable(tf.truncated_normal(name='full_mult3', shape=[reshaped_dim, num_outputs],stddev=0.01, dtype=tf.float32))\n",
    "    full_bias = tf.Variable(tf.zeros(shape=[num_outputs], dtype=tf.float32))\n",
    "                               \n",
    "    final_output = tf.add(tf.matmul(x_tensor, full_weight3), full_bias)\n",
    "\n",
    "    return final_output\n",
    "\n",
    "\n",
    "\"\"\"\n",
    "DON'T MODIFY ANYTHING IN THIS CELL THAT IS BELOW THIS LINE\n",
    "\"\"\"\n",
    "tests.test_output(output)"
   ]
  },
  {
   "cell_type": "markdown",
   "metadata": {
    "deletable": true,
    "editable": true
   },
   "source": [
    "### Create Convolutional Model\n",
    "Implement the function `conv_net` to create a convolutional neural network model. The function takes in a batch of images, `x`, and outputs logits.  Use the layers you created above to create this model:\n",
    "\n",
    "* Apply 1, 2, or 3 Convolution and Max Pool layers\n",
    "* Apply a Flatten Layer\n",
    "* Apply 1, 2, or 3 Fully Connected Layers\n",
    "* Apply an Output Layer\n",
    "* Return the output\n",
    "* Apply [TensorFlow's Dropout](https://www.tensorflow.org/api_docs/python/tf/nn/dropout) to one or more layers in the model using `keep_prob`. "
   ]
  },
  {
   "cell_type": "code",
   "execution_count": 68,
   "metadata": {
    "collapsed": false,
    "deletable": true,
    "editable": true
   },
   "outputs": [
    {
     "name": "stdout",
     "output_type": "stream",
     "text": [
      "Neural Network Built!\n"
     ]
    }
   ],
   "source": [
    "def conv_net(x, keep_prob):\n",
    "    \"\"\"\n",
    "    Create a convolutional neural network model\n",
    "    : x: Placeholder tensor that holds image data.\n",
    "    : keep_prob: Placeholder tensor that hold dropout keep probability.\n",
    "    : return: Tensor that represents logits\n",
    "    \"\"\"\n",
    "    # TODO: Apply 1, 2, or 3 Convolution and Max Pool layers\n",
    "    #    Play around with different number of outputs, kernel size and stride\n",
    "    # Function Definition from Above:\n",
    "    #    conv2d_maxpool(x_tensor, conv_num_outputs, conv_ksize, conv_strides, pool_ksize, pool_strides)\n",
    "    conv_ksize = (3,3)\n",
    "    conv_num_outputs = 90\n",
    "    conv_strides = (1,1)\n",
    "    pool_strides = (2,2)\n",
    "    pool_ksize = (2, 2)\n",
    "    conv1 = conv2d_maxpool(x, conv_num_outputs, conv_ksize, conv_strides, pool_ksize, pool_strides)\n",
    "    conv2_ksize = (3,3)\n",
    "    conv2_num_outputs = 90\n",
    "    conv2 =  conv2d_maxpool(conv1, conv2_num_outputs, conv2_ksize, conv_strides, pool_ksize, pool_strides)\n",
    "    \n",
    "    conv3_num_outputs = 90\n",
    "    conv3_ksize = (3,3)\n",
    "    conv3 =  conv2d_maxpool(conv2, conv3_num_outputs, conv3_ksize, conv_strides, pool_ksize, pool_strides)\n",
    "     \n",
    "\n",
    "    # TODO: Apply a Flatten Layer\n",
    "    # Function Definition from Above:\n",
    "    #   flatten(x_tensor)\n",
    "    reshaped_output = flatten(conv3)\n",
    "\n",
    "    # TODO: Apply 1, 2, or 3 Fully Connected Layers\n",
    "    #    Play around with different number of outputs\n",
    "    # Function Definition from Above:\n",
    "    #   fully_conn(x_tensor, num_outputs)\n",
    "    full_layer1 = fully_conn(reshaped_output, 90)\n",
    "    full_layer1 = tf.nn.dropout(full_layer1,keep_prob)\n",
    "    full_layer2 = fully_conn(full_layer1, 80)\n",
    "    full_layer2 = tf.nn.dropout(full_layer2,keep_prob)\n",
    "    full_layer3 = fully_conn(full_layer2, 80)\n",
    "    full_layer3 = tf.nn.dropout(full_layer3,keep_prob)\n",
    "    # TODO: Apply an Output Layer\n",
    "    #    Set this to the number of classes\n",
    "    # Function Definition from Above:\n",
    "    #   output(x_tensor, num_outputs)\n",
    "   \n",
    "     output_layer = output(full_layer3,10)\n",
    "    # TODO: return output\n",
    "    return output_layer\n",
    "\n",
    "\n",
    "\"\"\"\n",
    "DON'T MODIFY ANYTHING IN THIS CELL THAT IS BELOW THIS LINE\n",
    "\"\"\"\n",
    "\n",
    "##############################\n",
    "## Build the Neural Network ##\n",
    "##############################\n",
    "\n",
    "# Remove previous weights, bias, inputs, etc..\n",
    "tf.reset_default_graph()\n",
    "\n",
    "# Inputs\n",
    "x = neural_net_image_input((32, 32, 3))\n",
    "y = neural_net_label_input(10)\n",
    "keep_prob = neural_net_keep_prob_input()\n",
    "\n",
    "# Model\n",
    "logits = conv_net(x, keep_prob)\n",
    "\n",
    "# Name logits Tensor, so that is can be loaded from disk after training\n",
    "logits = tf.identity(logits, name='logits')\n",
    "\n",
    "# Loss and Optimizer\n",
    "cost = tf.reduce_mean(tf.nn.softmax_cross_entropy_with_logits(logits=logits, labels=y))\n",
    "optimizer = tf.train.AdamOptimizer().minimize(cost)\n",
    "\n",
    "# Accuracy\n",
    "correct_pred = tf.equal(tf.argmax(logits, 1), tf.argmax(y, 1))\n",
    "accuracy = tf.reduce_mean(tf.cast(correct_pred, tf.float32), name='accuracy')\n",
    "\n",
    "tests.test_conv_net(conv_net)"
   ]
  },
  {
   "cell_type": "markdown",
   "metadata": {
    "deletable": true,
    "editable": true
   },
   "source": [
    "## Train the Neural Network\n",
    "### Single Optimization\n",
    "Implement the function `train_neural_network` to do a single optimization.  The optimization should use `optimizer` to optimize in `session` with a `feed_dict` of the following:\n",
    "* `x` for image input\n",
    "* `y` for labels\n",
    "* `keep_prob` for keep probability for dropout\n",
    "\n",
    "This function will be called for each batch, so `tf.global_variables_initializer()` has already been called.\n",
    "\n",
    "Note: Nothing needs to be returned. This function is only optimizing the neural network."
   ]
  },
  {
   "cell_type": "code",
   "execution_count": 13,
   "metadata": {
    "collapsed": false,
    "deletable": true,
    "editable": true
   },
   "outputs": [
    {
     "name": "stdout",
     "output_type": "stream",
     "text": [
      "Tests Passed\n"
     ]
    }
   ],
   "source": [
    "def train_neural_network(session, optimizer, keep_probability, feature_batch, label_batch):\n",
    "    \"\"\"\n",
    "    Optimize the session on a batch of images and labels\n",
    "    : session: Current TensorFlow session\n",
    "    : optimizer: TensorFlow optimizer function\n",
    "    : keep_probability: keep probability\n",
    "    : feature_batch: Batch of Numpy image data\n",
    "    : label_batch: Batch of Numpy label data\n",
    "    \"\"\"\n",
    "    # TODO: Implement Function\n",
    "    feed_dict = {x : feature_batch, y : label_batch,keep_prob:keep_probability}\n",
    "    session.run([optimizer],feed_dict=feed_dict)\n",
    "    \n",
    "\n",
    "\n",
    "\"\"\"\n",
    "DON'T MODIFY ANYTHING IN THIS CELL THAT IS BELOW THIS LINE\n",
    "\"\"\"\n",
    "tests.test_train_nn(train_neural_network)"
   ]
  },
  {
   "cell_type": "markdown",
   "metadata": {
    "deletable": true,
    "editable": true
   },
   "source": [
    "### Show Stats\n",
    "Implement the function `print_stats` to print loss and validation accuracy.  Use the global variables `valid_features` and `valid_labels` to calculate validation accuracy.  Use a keep probability of `1.0` to calculate the loss and validation accuracy."
   ]
  },
  {
   "cell_type": "code",
   "execution_count": 31,
   "metadata": {
    "collapsed": false,
    "deletable": true,
    "editable": true
   },
   "outputs": [],
   "source": [
    "def print_stats(session, feature_batch, label_batch, cost, accuracy):\n",
    "    \"\"\"\n",
    "    Print information about loss and validation accuracy\n",
    "    : session: Current TensorFlow session\n",
    "    : feature_batch: Batch of Numpy image data\n",
    "    : label_batch: Batch of Numpy label data\n",
    "    : cost: TensorFlow cost function\n",
    "    : accuracy: TensorFlow accuracy function\n",
    "    \"\"\"\n",
    "    # TODO: Implement Function\n",
    "    loss = session.run(cost,feed_dict={x:feature_batch,y:label_batch,keep_prob:1.})\n",
    "    valid_acc = session.run(accuracy,feed_dict={x:valid_features,y:valid_labels,keep_prob:1.})\n",
    "    training_accuracy = session.run(accuracy,feed_dict={x:feature_batch,y:label_batch,keep_prob:1.})\n",
    "    print('Loss:{:>10.4f} Validation Accuracy:{:.6f} Training Accuracy:{:.6f}'.format(loss,valid_acc,training_accuracy))"
   ]
  },
  {
   "cell_type": "markdown",
   "metadata": {
    "deletable": true,
    "editable": true
   },
   "source": [
    "### Hyperparameters\n",
    "Tune the following parameters:\n",
    "* Set `epochs` to the number of iterations until the network stops learning or start overfitting\n",
    "* Set `batch_size` to the highest number that your machine has memory for.  Most people set them to common sizes of memory:\n",
    " * 64\n",
    " * 128\n",
    " * 256\n",
    " * ...\n",
    "* Set `keep_probability` to the probability of keeping a node using dropout"
   ]
  },
  {
   "cell_type": "code",
   "execution_count": 69,
   "metadata": {
    "collapsed": true,
    "deletable": true,
    "editable": true
   },
   "outputs": [],
   "source": [
    "# TODO: Tune Parameters\n",
    "epochs = 50\n",
    "batch_size = 300\n",
    "keep_probability = 0.6"
   ]
  },
  {
   "cell_type": "markdown",
   "metadata": {
    "deletable": true,
    "editable": true
   },
   "source": [
    "### Train on a Single CIFAR-10 Batch\n",
    "Instead of training the neural network on all the CIFAR-10 batches of data, let's use a single batch. This should save time while you iterate on the model to get a better accuracy.  Once the final validation accuracy is 50% or greater, run the model on all the data in the next section."
   ]
  },
  {
   "cell_type": "code",
   "execution_count": 70,
   "metadata": {
    "collapsed": false,
    "deletable": true,
    "editable": true
   },
   "outputs": [
    {
     "name": "stdout",
     "output_type": "stream",
     "text": [
      "Checking the Training on a Single Batch...\n",
      "Epoch  1, CIFAR-10 Batch 1:  Loss:    2.3027 Validation Accuracy:0.099800 Training Accuracy:0.090000\n",
      "Epoch  2, CIFAR-10 Batch 1:  Loss:    2.3027 Validation Accuracy:0.099800 Training Accuracy:0.090000\n",
      "Epoch  3, CIFAR-10 Batch 1:  Loss:    2.3027 Validation Accuracy:0.099800 Training Accuracy:0.090000\n",
      "Epoch  4, CIFAR-10 Batch 1:  Loss:    2.3027 Validation Accuracy:0.105000 Training Accuracy:0.110000\n",
      "Epoch  5, CIFAR-10 Batch 1:  Loss:    2.3026 Validation Accuracy:0.105000 Training Accuracy:0.110000\n",
      "Epoch  6, CIFAR-10 Batch 1:  Loss:    2.2157 Validation Accuracy:0.179000 Training Accuracy:0.193333\n",
      "Epoch  7, CIFAR-10 Batch 1:  Loss:    2.1329 Validation Accuracy:0.179200 Training Accuracy:0.186667\n",
      "Epoch  8, CIFAR-10 Batch 1:  Loss:    2.0909 Validation Accuracy:0.214400 Training Accuracy:0.240000\n",
      "Epoch  9, CIFAR-10 Batch 1:  Loss:    2.0812 Validation Accuracy:0.204800 Training Accuracy:0.223333\n",
      "Epoch 10, CIFAR-10 Batch 1:  Loss:    2.0350 Validation Accuracy:0.230200 Training Accuracy:0.250000\n",
      "Epoch 11, CIFAR-10 Batch 1:  Loss:    1.9826 Validation Accuracy:0.247200 Training Accuracy:0.250000\n",
      "Epoch 12, CIFAR-10 Batch 1:  Loss:    1.9698 Validation Accuracy:0.249800 Training Accuracy:0.243333\n",
      "Epoch 13, CIFAR-10 Batch 1:  Loss:    1.8852 Validation Accuracy:0.305200 Training Accuracy:0.333333\n",
      "Epoch 14, CIFAR-10 Batch 1:  Loss:    1.8375 Validation Accuracy:0.316800 Training Accuracy:0.310000\n",
      "Epoch 15, CIFAR-10 Batch 1:  Loss:    1.7940 Validation Accuracy:0.332800 Training Accuracy:0.346667\n",
      "Epoch 16, CIFAR-10 Batch 1:  Loss:    1.7303 Validation Accuracy:0.352000 Training Accuracy:0.376667\n",
      "Epoch 17, CIFAR-10 Batch 1:  Loss:    1.7097 Validation Accuracy:0.361600 Training Accuracy:0.380000\n",
      "Epoch 18, CIFAR-10 Batch 1:  Loss:    1.6919 Validation Accuracy:0.368400 Training Accuracy:0.410000\n",
      "Epoch 19, CIFAR-10 Batch 1:  Loss:    1.6848 Validation Accuracy:0.382600 Training Accuracy:0.420000\n",
      "Epoch 20, CIFAR-10 Batch 1:  Loss:    1.6502 Validation Accuracy:0.392600 Training Accuracy:0.450000\n",
      "Epoch 21, CIFAR-10 Batch 1:  Loss:    1.6114 Validation Accuracy:0.418200 Training Accuracy:0.450000\n",
      "Epoch 22, CIFAR-10 Batch 1:  Loss:    1.5669 Validation Accuracy:0.419000 Training Accuracy:0.483333\n",
      "Epoch 23, CIFAR-10 Batch 1:  Loss:    1.5650 Validation Accuracy:0.411000 Training Accuracy:0.456667\n",
      "Epoch 24, CIFAR-10 Batch 1:  Loss:    1.5593 Validation Accuracy:0.414600 Training Accuracy:0.460000\n",
      "Epoch 25, CIFAR-10 Batch 1:  Loss:    1.4831 Validation Accuracy:0.428400 Training Accuracy:0.476667\n",
      "Epoch 26, CIFAR-10 Batch 1:  Loss:    1.4767 Validation Accuracy:0.433000 Training Accuracy:0.486667\n",
      "Epoch 27, CIFAR-10 Batch 1:  Loss:    1.4376 Validation Accuracy:0.441000 Training Accuracy:0.510000\n",
      "Epoch 28, CIFAR-10 Batch 1:  Loss:    1.4266 Validation Accuracy:0.438000 Training Accuracy:0.513333\n",
      "Epoch 29, CIFAR-10 Batch 1:  Loss:    1.4202 Validation Accuracy:0.451400 Training Accuracy:0.520000\n",
      "Epoch 30, CIFAR-10 Batch 1:  Loss:    1.3463 Validation Accuracy:0.458600 Training Accuracy:0.540000\n",
      "Epoch 31, CIFAR-10 Batch 1:  Loss:    1.3397 Validation Accuracy:0.465800 Training Accuracy:0.553333\n",
      "Epoch 32, CIFAR-10 Batch 1:  Loss:    1.3137 Validation Accuracy:0.468800 Training Accuracy:0.550000\n",
      "Epoch 33, CIFAR-10 Batch 1:  Loss:    1.2965 Validation Accuracy:0.473400 Training Accuracy:0.540000\n",
      "Epoch 34, CIFAR-10 Batch 1:  Loss:    1.2464 Validation Accuracy:0.491600 Training Accuracy:0.586667\n",
      "Epoch 35, CIFAR-10 Batch 1:  Loss:    1.2579 Validation Accuracy:0.489800 Training Accuracy:0.540000\n",
      "Epoch 36, CIFAR-10 Batch 1:  Loss:    1.2180 Validation Accuracy:0.491800 Training Accuracy:0.570000\n",
      "Epoch 37, CIFAR-10 Batch 1:  Loss:    1.2607 Validation Accuracy:0.485600 Training Accuracy:0.563333\n",
      "Epoch 38, CIFAR-10 Batch 1:  Loss:    1.1831 Validation Accuracy:0.498400 Training Accuracy:0.596667\n",
      "Epoch 39, CIFAR-10 Batch 1:  Loss:    1.1729 Validation Accuracy:0.493000 Training Accuracy:0.593333\n",
      "Epoch 40, CIFAR-10 Batch 1:  Loss:    1.1544 Validation Accuracy:0.501600 Training Accuracy:0.590000\n",
      "Epoch 41, CIFAR-10 Batch 1:  Loss:    1.1372 Validation Accuracy:0.505600 Training Accuracy:0.613333\n",
      "Epoch 42, CIFAR-10 Batch 1:  Loss:    1.1130 Validation Accuracy:0.512000 Training Accuracy:0.620000\n",
      "Epoch 43, CIFAR-10 Batch 1:  Loss:    1.1157 Validation Accuracy:0.511800 Training Accuracy:0.630000\n",
      "Epoch 44, CIFAR-10 Batch 1:  Loss:    1.0795 Validation Accuracy:0.508800 Training Accuracy:0.640000\n",
      "Epoch 45, CIFAR-10 Batch 1:  Loss:    1.0929 Validation Accuracy:0.503000 Training Accuracy:0.610000\n",
      "Epoch 46, CIFAR-10 Batch 1:  Loss:    1.0503 Validation Accuracy:0.509400 Training Accuracy:0.633333\n",
      "Epoch 47, CIFAR-10 Batch 1:  Loss:    1.0280 Validation Accuracy:0.525400 Training Accuracy:0.686667\n",
      "Epoch 48, CIFAR-10 Batch 1:  Loss:    1.0087 Validation Accuracy:0.528400 Training Accuracy:0.643333\n",
      "Epoch 49, CIFAR-10 Batch 1:  Loss:    0.9611 Validation Accuracy:0.531200 Training Accuracy:0.673333\n",
      "Epoch 50, CIFAR-10 Batch 1:  Loss:    0.9637 Validation Accuracy:0.523800 Training Accuracy:0.660000\n"
     ]
    }
   ],
   "source": [
    "\"\"\"\n",
    "DON'T MODIFY ANYTHING IN THIS CELL\n",
    "\"\"\"\n",
    "print('Checking the Training on a Single Batch...')\n",
    "with tf.Session() as sess:\n",
    "    # Initializing the variables\n",
    "    sess.run(tf.global_variables_initializer())\n",
    "    \n",
    "    # Training cycle\n",
    "    for epoch in range(epochs):\n",
    "        batch_i = 1\n",
    "        for batch_features, batch_labels in helper.load_preprocess_training_batch(batch_i, batch_size):\n",
    "            train_neural_network(sess, optimizer, keep_probability, batch_features, batch_labels)\n",
    "        print('Epoch {:>2}, CIFAR-10 Batch {}:  '.format(epoch + 1, batch_i), end='')\n",
    "        print_stats(sess, batch_features, batch_labels, cost, accuracy)"
   ]
  },
  {
   "cell_type": "markdown",
   "metadata": {
    "deletable": true,
    "editable": true
   },
   "source": [
    "### Fully Train the Model\n",
    "Now that you got a good accuracy with a single CIFAR-10 batch, try it with all five batches."
   ]
  },
  {
   "cell_type": "code",
   "execution_count": 71,
   "metadata": {
    "collapsed": false,
    "deletable": true,
    "editable": true
   },
   "outputs": [
    {
     "name": "stdout",
     "output_type": "stream",
     "text": [
      "Training...\n",
      "Epoch  1, CIFAR-10 Batch 1:  Loss:    2.3027 Validation Accuracy:0.099800 Training Accuracy:0.090000\n",
      "Epoch  1, CIFAR-10 Batch 2:  Loss:    2.3032 Validation Accuracy:0.099800 Training Accuracy:0.103333\n",
      "Epoch  1, CIFAR-10 Batch 3:  Loss:    2.3028 Validation Accuracy:0.099800 Training Accuracy:0.106667\n",
      "Epoch  1, CIFAR-10 Batch 4:  Loss:    2.2363 Validation Accuracy:0.156600 Training Accuracy:0.123333\n",
      "Epoch  1, CIFAR-10 Batch 5:  Loss:    2.1949 Validation Accuracy:0.169000 Training Accuracy:0.170000\n",
      "Epoch  2, CIFAR-10 Batch 1:  Loss:    2.1093 Validation Accuracy:0.194800 Training Accuracy:0.206667\n",
      "Epoch  2, CIFAR-10 Batch 2:  Loss:    1.9696 Validation Accuracy:0.216600 Training Accuracy:0.263333\n",
      "Epoch  2, CIFAR-10 Batch 3:  Loss:    1.9214 Validation Accuracy:0.193800 Training Accuracy:0.240000\n",
      "Epoch  2, CIFAR-10 Batch 4:  Loss:    1.8157 Validation Accuracy:0.256800 Training Accuracy:0.280000\n",
      "Epoch  2, CIFAR-10 Batch 5:  Loss:    1.8163 Validation Accuracy:0.266600 Training Accuracy:0.290000\n",
      "Epoch  3, CIFAR-10 Batch 1:  Loss:    1.8631 Validation Accuracy:0.300600 Training Accuracy:0.243333\n",
      "Epoch  3, CIFAR-10 Batch 2:  Loss:    1.7465 Validation Accuracy:0.299600 Training Accuracy:0.300000\n",
      "Epoch  3, CIFAR-10 Batch 3:  Loss:    1.7176 Validation Accuracy:0.288000 Training Accuracy:0.276667\n",
      "Epoch  3, CIFAR-10 Batch 4:  Loss:    1.6611 Validation Accuracy:0.318400 Training Accuracy:0.326667\n",
      "Epoch  3, CIFAR-10 Batch 5:  Loss:    1.7242 Validation Accuracy:0.295400 Training Accuracy:0.313333\n",
      "Epoch  4, CIFAR-10 Batch 1:  Loss:    1.7907 Validation Accuracy:0.331200 Training Accuracy:0.276667\n",
      "Epoch  4, CIFAR-10 Batch 2:  Loss:    1.6970 Validation Accuracy:0.337000 Training Accuracy:0.340000\n",
      "Epoch  4, CIFAR-10 Batch 3:  Loss:    1.6545 Validation Accuracy:0.333200 Training Accuracy:0.316667\n",
      "Epoch  4, CIFAR-10 Batch 4:  Loss:    1.6019 Validation Accuracy:0.360800 Training Accuracy:0.376667\n",
      "Epoch  4, CIFAR-10 Batch 5:  Loss:    1.6540 Validation Accuracy:0.334200 Training Accuracy:0.356667\n",
      "Epoch  5, CIFAR-10 Batch 1:  Loss:    1.7053 Validation Accuracy:0.376400 Training Accuracy:0.333333\n",
      "Epoch  5, CIFAR-10 Batch 2:  Loss:    1.6555 Validation Accuracy:0.362000 Training Accuracy:0.380000\n",
      "Epoch  5, CIFAR-10 Batch 3:  Loss:    1.5474 Validation Accuracy:0.380600 Training Accuracy:0.383333\n",
      "Epoch  5, CIFAR-10 Batch 4:  Loss:    1.5605 Validation Accuracy:0.383800 Training Accuracy:0.393333\n",
      "Epoch  5, CIFAR-10 Batch 5:  Loss:    1.5880 Validation Accuracy:0.380400 Training Accuracy:0.360000\n",
      "Epoch  6, CIFAR-10 Batch 1:  Loss:    1.6354 Validation Accuracy:0.399600 Training Accuracy:0.383333\n",
      "Epoch  6, CIFAR-10 Batch 2:  Loss:    1.5861 Validation Accuracy:0.391600 Training Accuracy:0.433333\n",
      "Epoch  6, CIFAR-10 Batch 3:  Loss:    1.4873 Validation Accuracy:0.405000 Training Accuracy:0.393333\n",
      "Epoch  6, CIFAR-10 Batch 4:  Loss:    1.5120 Validation Accuracy:0.408800 Training Accuracy:0.400000\n",
      "Epoch  6, CIFAR-10 Batch 5:  Loss:    1.5291 Validation Accuracy:0.412600 Training Accuracy:0.403333\n",
      "Epoch  7, CIFAR-10 Batch 1:  Loss:    1.5884 Validation Accuracy:0.424800 Training Accuracy:0.390000\n",
      "Epoch  7, CIFAR-10 Batch 2:  Loss:    1.5643 Validation Accuracy:0.418000 Training Accuracy:0.430000\n",
      "Epoch  7, CIFAR-10 Batch 3:  Loss:    1.4196 Validation Accuracy:0.424000 Training Accuracy:0.436667\n",
      "Epoch  7, CIFAR-10 Batch 4:  Loss:    1.4704 Validation Accuracy:0.434600 Training Accuracy:0.440000\n",
      "Epoch  7, CIFAR-10 Batch 5:  Loss:    1.4832 Validation Accuracy:0.432400 Training Accuracy:0.450000\n",
      "Epoch  8, CIFAR-10 Batch 1:  Loss:    1.5323 Validation Accuracy:0.452200 Training Accuracy:0.443333\n",
      "Epoch  8, CIFAR-10 Batch 2:  Loss:    1.5059 Validation Accuracy:0.443400 Training Accuracy:0.443333\n",
      "Epoch  8, CIFAR-10 Batch 3:  Loss:    1.3734 Validation Accuracy:0.452800 Training Accuracy:0.496667\n",
      "Epoch  8, CIFAR-10 Batch 4:  Loss:    1.4008 Validation Accuracy:0.448800 Training Accuracy:0.466667\n",
      "Epoch  8, CIFAR-10 Batch 5:  Loss:    1.4229 Validation Accuracy:0.455000 Training Accuracy:0.476667\n",
      "Epoch  9, CIFAR-10 Batch 1:  Loss:    1.4852 Validation Accuracy:0.456000 Training Accuracy:0.443333\n",
      "Epoch  9, CIFAR-10 Batch 2:  Loss:    1.4631 Validation Accuracy:0.460600 Training Accuracy:0.466667\n",
      "Epoch  9, CIFAR-10 Batch 3:  Loss:    1.3035 Validation Accuracy:0.471200 Training Accuracy:0.523333\n",
      "Epoch  9, CIFAR-10 Batch 4:  Loss:    1.3188 Validation Accuracy:0.486200 Training Accuracy:0.516667\n",
      "Epoch  9, CIFAR-10 Batch 5:  Loss:    1.3707 Validation Accuracy:0.471800 Training Accuracy:0.520000\n",
      "Epoch 10, CIFAR-10 Batch 1:  Loss:    1.3871 Validation Accuracy:0.491000 Training Accuracy:0.483333\n",
      "Epoch 10, CIFAR-10 Batch 2:  Loss:    1.4151 Validation Accuracy:0.490400 Training Accuracy:0.480000\n",
      "Epoch 10, CIFAR-10 Batch 3:  Loss:    1.2487 Validation Accuracy:0.477200 Training Accuracy:0.526667\n",
      "Epoch 10, CIFAR-10 Batch 4:  Loss:    1.2564 Validation Accuracy:0.496200 Training Accuracy:0.540000\n",
      "Epoch 10, CIFAR-10 Batch 5:  Loss:    1.3180 Validation Accuracy:0.497000 Training Accuracy:0.523333\n",
      "Epoch 11, CIFAR-10 Batch 1:  Loss:    1.3457 Validation Accuracy:0.493800 Training Accuracy:0.500000\n",
      "Epoch 11, CIFAR-10 Batch 2:  Loss:    1.3225 Validation Accuracy:0.501800 Training Accuracy:0.533333\n",
      "Epoch 11, CIFAR-10 Batch 3:  Loss:    1.2344 Validation Accuracy:0.490000 Training Accuracy:0.563333\n",
      "Epoch 11, CIFAR-10 Batch 4:  Loss:    1.2107 Validation Accuracy:0.510400 Training Accuracy:0.556667\n",
      "Epoch 11, CIFAR-10 Batch 5:  Loss:    1.2725 Validation Accuracy:0.509600 Training Accuracy:0.533333\n",
      "Epoch 12, CIFAR-10 Batch 1:  Loss:    1.2978 Validation Accuracy:0.504800 Training Accuracy:0.520000\n",
      "Epoch 12, CIFAR-10 Batch 2:  Loss:    1.2723 Validation Accuracy:0.523000 Training Accuracy:0.536667\n",
      "Epoch 12, CIFAR-10 Batch 3:  Loss:    1.1820 Validation Accuracy:0.528600 Training Accuracy:0.563333\n",
      "Epoch 12, CIFAR-10 Batch 4:  Loss:    1.1862 Validation Accuracy:0.533800 Training Accuracy:0.580000\n",
      "Epoch 12, CIFAR-10 Batch 5:  Loss:    1.2220 Validation Accuracy:0.527200 Training Accuracy:0.533333\n",
      "Epoch 13, CIFAR-10 Batch 1:  Loss:    1.2020 Validation Accuracy:0.534800 Training Accuracy:0.566667\n",
      "Epoch 13, CIFAR-10 Batch 2:  Loss:    1.2125 Validation Accuracy:0.540200 Training Accuracy:0.563333\n",
      "Epoch 13, CIFAR-10 Batch 3:  Loss:    1.1997 Validation Accuracy:0.527800 Training Accuracy:0.533333\n",
      "Epoch 13, CIFAR-10 Batch 4:  Loss:    1.1360 Validation Accuracy:0.546000 Training Accuracy:0.576667\n",
      "Epoch 13, CIFAR-10 Batch 5:  Loss:    1.2087 Validation Accuracy:0.535400 Training Accuracy:0.553333\n",
      "Epoch 14, CIFAR-10 Batch 1:  Loss:    1.1889 Validation Accuracy:0.550200 Training Accuracy:0.570000\n",
      "Epoch 14, CIFAR-10 Batch 2:  Loss:    1.1919 Validation Accuracy:0.545000 Training Accuracy:0.580000\n",
      "Epoch 14, CIFAR-10 Batch 3:  Loss:    1.1183 Validation Accuracy:0.554000 Training Accuracy:0.576667\n",
      "Epoch 14, CIFAR-10 Batch 4:  Loss:    1.0698 Validation Accuracy:0.551800 Training Accuracy:0.610000\n",
      "Epoch 14, CIFAR-10 Batch 5:  Loss:    1.1728 Validation Accuracy:0.561000 Training Accuracy:0.566667\n",
      "Epoch 15, CIFAR-10 Batch 1:  Loss:    1.1155 Validation Accuracy:0.551000 Training Accuracy:0.616667\n",
      "Epoch 15, CIFAR-10 Batch 2:  Loss:    1.1509 Validation Accuracy:0.564200 Training Accuracy:0.576667\n",
      "Epoch 15, CIFAR-10 Batch 3:  Loss:    1.1044 Validation Accuracy:0.565600 Training Accuracy:0.603333\n",
      "Epoch 15, CIFAR-10 Batch 4:  Loss:    1.0496 Validation Accuracy:0.569000 Training Accuracy:0.596667\n",
      "Epoch 15, CIFAR-10 Batch 5:  Loss:    1.1369 Validation Accuracy:0.565800 Training Accuracy:0.576667\n",
      "Epoch 16, CIFAR-10 Batch 1:  Loss:    1.0817 Validation Accuracy:0.583800 Training Accuracy:0.610000\n",
      "Epoch 16, CIFAR-10 Batch 2:  Loss:    1.1095 Validation Accuracy:0.573000 Training Accuracy:0.626667\n",
      "Epoch 16, CIFAR-10 Batch 3:  Loss:    1.0608 Validation Accuracy:0.573800 Training Accuracy:0.603333\n",
      "Epoch 16, CIFAR-10 Batch 4:  Loss:    0.9801 Validation Accuracy:0.587600 Training Accuracy:0.610000\n",
      "Epoch 16, CIFAR-10 Batch 5:  Loss:    1.1100 Validation Accuracy:0.584000 Training Accuracy:0.616667\n",
      "Epoch 17, CIFAR-10 Batch 1:  Loss:    1.0450 Validation Accuracy:0.592400 Training Accuracy:0.650000\n",
      "Epoch 17, CIFAR-10 Batch 2:  Loss:    1.0593 Validation Accuracy:0.579200 Training Accuracy:0.633333\n",
      "Epoch 17, CIFAR-10 Batch 3:  Loss:    1.0114 Validation Accuracy:0.575200 Training Accuracy:0.646667\n",
      "Epoch 17, CIFAR-10 Batch 4:  Loss:    0.9520 Validation Accuracy:0.593800 Training Accuracy:0.666667\n",
      "Epoch 17, CIFAR-10 Batch 5:  Loss:    1.0396 Validation Accuracy:0.582800 Training Accuracy:0.640000\n",
      "Epoch 18, CIFAR-10 Batch 1:  Loss:    1.0002 Validation Accuracy:0.592600 Training Accuracy:0.656667\n",
      "Epoch 18, CIFAR-10 Batch 2:  Loss:    1.0133 Validation Accuracy:0.595400 Training Accuracy:0.653333\n",
      "Epoch 18, CIFAR-10 Batch 3:  Loss:    0.9751 Validation Accuracy:0.601600 Training Accuracy:0.650000\n",
      "Epoch 18, CIFAR-10 Batch 4:  Loss:    0.9131 Validation Accuracy:0.600400 Training Accuracy:0.670000\n",
      "Epoch 18, CIFAR-10 Batch 5:  Loss:    1.0893 Validation Accuracy:0.607200 Training Accuracy:0.610000\n",
      "Epoch 19, CIFAR-10 Batch 1:  Loss:    0.9689 Validation Accuracy:0.601000 Training Accuracy:0.660000\n",
      "Epoch 19, CIFAR-10 Batch 2:  Loss:    0.9947 Validation Accuracy:0.612200 Training Accuracy:0.653333\n",
      "Epoch 19, CIFAR-10 Batch 3:  Loss:    0.9520 Validation Accuracy:0.589600 Training Accuracy:0.656667\n",
      "Epoch 19, CIFAR-10 Batch 4:  Loss:    0.8548 Validation Accuracy:0.621600 Training Accuracy:0.700000\n",
      "Epoch 19, CIFAR-10 Batch 5:  Loss:    1.0253 Validation Accuracy:0.600800 Training Accuracy:0.596667\n",
      "Epoch 20, CIFAR-10 Batch 1:  Loss:    0.9459 Validation Accuracy:0.617400 Training Accuracy:0.673333\n",
      "Epoch 20, CIFAR-10 Batch 2:  Loss:    0.9769 Validation Accuracy:0.615800 Training Accuracy:0.680000\n",
      "Epoch 20, CIFAR-10 Batch 3:  Loss:    0.8977 Validation Accuracy:0.617200 Training Accuracy:0.686667\n",
      "Epoch 20, CIFAR-10 Batch 4:  Loss:    0.8475 Validation Accuracy:0.625600 Training Accuracy:0.703333\n",
      "Epoch 20, CIFAR-10 Batch 5:  Loss:    0.9924 Validation Accuracy:0.624800 Training Accuracy:0.620000\n",
      "Epoch 21, CIFAR-10 Batch 1:  Loss:    0.9414 Validation Accuracy:0.630200 Training Accuracy:0.650000\n",
      "Epoch 21, CIFAR-10 Batch 2:  Loss:    0.9192 Validation Accuracy:0.618400 Training Accuracy:0.710000\n",
      "Epoch 21, CIFAR-10 Batch 3:  Loss:    0.8772 Validation Accuracy:0.616400 Training Accuracy:0.706667\n",
      "Epoch 21, CIFAR-10 Batch 4:  Loss:    0.8328 Validation Accuracy:0.628200 Training Accuracy:0.706667\n",
      "Epoch 21, CIFAR-10 Batch 5:  Loss:    0.9665 Validation Accuracy:0.621200 Training Accuracy:0.630000\n",
      "Epoch 22, CIFAR-10 Batch 1:  Loss:    0.9410 Validation Accuracy:0.632400 Training Accuracy:0.670000\n",
      "Epoch 22, CIFAR-10 Batch 2:  Loss:    0.9329 Validation Accuracy:0.628600 Training Accuracy:0.666667\n",
      "Epoch 22, CIFAR-10 Batch 3:  Loss:    0.8831 Validation Accuracy:0.612200 Training Accuracy:0.700000\n",
      "Epoch 22, CIFAR-10 Batch 4:  Loss:    0.8276 Validation Accuracy:0.624200 Training Accuracy:0.716667\n",
      "Epoch 22, CIFAR-10 Batch 5:  Loss:    0.9599 Validation Accuracy:0.618200 Training Accuracy:0.636667\n",
      "Epoch 23, CIFAR-10 Batch 1:  Loss:    0.9112 Validation Accuracy:0.638600 Training Accuracy:0.700000\n",
      "Epoch 23, CIFAR-10 Batch 2:  Loss:    0.8951 Validation Accuracy:0.629000 Training Accuracy:0.713333\n",
      "Epoch 23, CIFAR-10 Batch 3:  Loss:    0.8554 Validation Accuracy:0.618400 Training Accuracy:0.703333\n",
      "Epoch 23, CIFAR-10 Batch 4:  Loss:    0.8006 Validation Accuracy:0.633200 Training Accuracy:0.730000\n",
      "Epoch 23, CIFAR-10 Batch 5:  Loss:    0.9450 Validation Accuracy:0.625600 Training Accuracy:0.643333\n",
      "Epoch 24, CIFAR-10 Batch 1:  Loss:    0.8605 Validation Accuracy:0.645800 Training Accuracy:0.716667\n",
      "Epoch 24, CIFAR-10 Batch 2:  Loss:    0.8714 Validation Accuracy:0.644000 Training Accuracy:0.723333\n",
      "Epoch 24, CIFAR-10 Batch 3:  Loss:    0.8174 Validation Accuracy:0.635800 Training Accuracy:0.723333\n",
      "Epoch 24, CIFAR-10 Batch 4:  Loss:    0.7574 Validation Accuracy:0.647800 Training Accuracy:0.750000\n",
      "Epoch 24, CIFAR-10 Batch 5:  Loss:    0.8568 Validation Accuracy:0.643000 Training Accuracy:0.690000\n",
      "Epoch 25, CIFAR-10 Batch 1:  Loss:    0.8660 Validation Accuracy:0.638400 Training Accuracy:0.713333\n",
      "Epoch 25, CIFAR-10 Batch 2:  Loss:    0.9304 Validation Accuracy:0.609800 Training Accuracy:0.706667\n",
      "Epoch 25, CIFAR-10 Batch 3:  Loss:    0.7839 Validation Accuracy:0.642000 Training Accuracy:0.740000\n",
      "Epoch 25, CIFAR-10 Batch 4:  Loss:    0.7432 Validation Accuracy:0.656200 Training Accuracy:0.756667\n",
      "Epoch 25, CIFAR-10 Batch 5:  Loss:    0.8680 Validation Accuracy:0.648400 Training Accuracy:0.673333\n",
      "Epoch 26, CIFAR-10 Batch 1:  Loss:    0.8186 Validation Accuracy:0.650800 Training Accuracy:0.716667\n",
      "Epoch 26, CIFAR-10 Batch 2:  Loss:    0.8420 Validation Accuracy:0.642000 Training Accuracy:0.730000\n",
      "Epoch 26, CIFAR-10 Batch 3:  Loss:    0.7737 Validation Accuracy:0.652200 Training Accuracy:0.720000\n",
      "Epoch 26, CIFAR-10 Batch 4:  Loss:    0.7278 Validation Accuracy:0.654400 Training Accuracy:0.770000\n",
      "Epoch 26, CIFAR-10 Batch 5:  Loss:    0.8411 Validation Accuracy:0.648600 Training Accuracy:0.673333\n",
      "Epoch 27, CIFAR-10 Batch 1:  Loss:    0.8226 Validation Accuracy:0.648600 Training Accuracy:0.720000\n",
      "Epoch 27, CIFAR-10 Batch 2:  Loss:    0.8342 Validation Accuracy:0.649800 Training Accuracy:0.753333\n",
      "Epoch 27, CIFAR-10 Batch 3:  Loss:    0.7764 Validation Accuracy:0.643200 Training Accuracy:0.720000\n",
      "Epoch 27, CIFAR-10 Batch 4:  Loss:    0.6893 Validation Accuracy:0.656000 Training Accuracy:0.776667\n",
      "Epoch 27, CIFAR-10 Batch 5:  Loss:    0.8224 Validation Accuracy:0.650800 Training Accuracy:0.696667\n",
      "Epoch 28, CIFAR-10 Batch 1:  Loss:    0.8087 Validation Accuracy:0.661000 Training Accuracy:0.723333\n",
      "Epoch 28, CIFAR-10 Batch 2:  Loss:    0.8013 Validation Accuracy:0.650400 Training Accuracy:0.763333\n",
      "Epoch 28, CIFAR-10 Batch 3:  Loss:    0.7276 Validation Accuracy:0.660800 Training Accuracy:0.746667\n",
      "Epoch 28, CIFAR-10 Batch 4:  Loss:    0.7210 Validation Accuracy:0.654200 Training Accuracy:0.770000\n",
      "Epoch 28, CIFAR-10 Batch 5:  Loss:    0.8077 Validation Accuracy:0.664000 Training Accuracy:0.696667\n",
      "Epoch 29, CIFAR-10 Batch 1:  Loss:    0.7785 Validation Accuracy:0.668000 Training Accuracy:0.730000\n",
      "Epoch 29, CIFAR-10 Batch 2:  Loss:    0.8407 Validation Accuracy:0.640000 Training Accuracy:0.756667\n",
      "Epoch 29, CIFAR-10 Batch 3:  Loss:    0.7103 Validation Accuracy:0.666000 Training Accuracy:0.756667\n",
      "Epoch 29, CIFAR-10 Batch 4:  Loss:    0.6679 Validation Accuracy:0.668000 Training Accuracy:0.776667\n",
      "Epoch 29, CIFAR-10 Batch 5:  Loss:    0.7572 Validation Accuracy:0.666600 Training Accuracy:0.713333\n",
      "Epoch 30, CIFAR-10 Batch 1:  Loss:    0.7491 Validation Accuracy:0.667000 Training Accuracy:0.740000\n",
      "Epoch 30, CIFAR-10 Batch 2:  Loss:    0.7977 Validation Accuracy:0.662000 Training Accuracy:0.750000\n",
      "Epoch 30, CIFAR-10 Batch 3:  Loss:    0.7093 Validation Accuracy:0.668000 Training Accuracy:0.760000\n",
      "Epoch 30, CIFAR-10 Batch 4:  Loss:    0.6843 Validation Accuracy:0.665400 Training Accuracy:0.773333\n",
      "Epoch 30, CIFAR-10 Batch 5:  Loss:    0.7665 Validation Accuracy:0.654800 Training Accuracy:0.726667\n",
      "Epoch 31, CIFAR-10 Batch 1:  Loss:    0.7453 Validation Accuracy:0.673800 Training Accuracy:0.740000\n",
      "Epoch 31, CIFAR-10 Batch 2:  Loss:    0.7996 Validation Accuracy:0.657400 Training Accuracy:0.736667\n",
      "Epoch 31, CIFAR-10 Batch 3:  Loss:    0.6840 Validation Accuracy:0.670600 Training Accuracy:0.750000\n",
      "Epoch 31, CIFAR-10 Batch 4:  Loss:    0.6492 Validation Accuracy:0.674000 Training Accuracy:0.793333\n",
      "Epoch 31, CIFAR-10 Batch 5:  Loss:    0.7082 Validation Accuracy:0.675800 Training Accuracy:0.730000\n",
      "Epoch 32, CIFAR-10 Batch 1:  Loss:    0.7539 Validation Accuracy:0.673400 Training Accuracy:0.720000\n",
      "Epoch 32, CIFAR-10 Batch 2:  Loss:    0.7603 Validation Accuracy:0.661400 Training Accuracy:0.770000\n",
      "Epoch 32, CIFAR-10 Batch 3:  Loss:    0.6711 Validation Accuracy:0.675800 Training Accuracy:0.770000\n",
      "Epoch 32, CIFAR-10 Batch 4:  Loss:    0.6290 Validation Accuracy:0.676000 Training Accuracy:0.786667\n",
      "Epoch 32, CIFAR-10 Batch 5:  Loss:    0.7346 Validation Accuracy:0.672200 Training Accuracy:0.726667\n",
      "Epoch 33, CIFAR-10 Batch 1:  Loss:    0.7190 Validation Accuracy:0.676200 Training Accuracy:0.763333\n",
      "Epoch 33, CIFAR-10 Batch 2:  Loss:    0.7098 Validation Accuracy:0.674200 Training Accuracy:0.786667\n",
      "Epoch 33, CIFAR-10 Batch 3:  Loss:    0.6463 Validation Accuracy:0.677600 Training Accuracy:0.793333\n",
      "Epoch 33, CIFAR-10 Batch 4:  Loss:    0.6616 Validation Accuracy:0.680200 Training Accuracy:0.783333\n",
      "Epoch 33, CIFAR-10 Batch 5:  Loss:    0.6822 Validation Accuracy:0.677200 Training Accuracy:0.766667\n",
      "Epoch 34, CIFAR-10 Batch 1:  Loss:    0.7165 Validation Accuracy:0.681800 Training Accuracy:0.750000\n",
      "Epoch 34, CIFAR-10 Batch 2:  Loss:    0.7258 Validation Accuracy:0.682800 Training Accuracy:0.763333\n",
      "Epoch 34, CIFAR-10 Batch 3:  Loss:    0.6530 Validation Accuracy:0.667400 Training Accuracy:0.793333\n",
      "Epoch 34, CIFAR-10 Batch 4:  Loss:    0.6222 Validation Accuracy:0.674400 Training Accuracy:0.803333\n",
      "Epoch 34, CIFAR-10 Batch 5:  Loss:    0.6954 Validation Accuracy:0.665400 Training Accuracy:0.746667\n",
      "Epoch 35, CIFAR-10 Batch 1:  Loss:    0.7148 Validation Accuracy:0.674000 Training Accuracy:0.770000\n",
      "Epoch 35, CIFAR-10 Batch 2:  Loss:    0.7605 Validation Accuracy:0.662600 Training Accuracy:0.770000\n",
      "Epoch 35, CIFAR-10 Batch 3:  Loss:    0.6225 Validation Accuracy:0.681000 Training Accuracy:0.776667\n",
      "Epoch 35, CIFAR-10 Batch 4:  Loss:    0.6366 Validation Accuracy:0.669600 Training Accuracy:0.796667\n",
      "Epoch 35, CIFAR-10 Batch 5:  Loss:    0.6808 Validation Accuracy:0.678000 Training Accuracy:0.756667\n",
      "Epoch 36, CIFAR-10 Batch 1:  Loss:    0.6949 Validation Accuracy:0.673200 Training Accuracy:0.776667\n",
      "Epoch 36, CIFAR-10 Batch 2:  Loss:    0.7048 Validation Accuracy:0.675200 Training Accuracy:0.783333\n",
      "Epoch 36, CIFAR-10 Batch 3:  Loss:    0.6155 Validation Accuracy:0.680600 Training Accuracy:0.806667\n",
      "Epoch 36, CIFAR-10 Batch 4:  Loss:    0.6474 Validation Accuracy:0.672600 Training Accuracy:0.783333\n",
      "Epoch 36, CIFAR-10 Batch 5:  Loss:    0.6768 Validation Accuracy:0.670800 Training Accuracy:0.763333\n",
      "Epoch 37, CIFAR-10 Batch 1:  Loss:    0.6541 Validation Accuracy:0.688600 Training Accuracy:0.766667\n",
      "Epoch 37, CIFAR-10 Batch 2:  Loss:    0.7085 Validation Accuracy:0.678400 Training Accuracy:0.766667\n",
      "Epoch 37, CIFAR-10 Batch 3:  Loss:    0.6099 Validation Accuracy:0.685600 Training Accuracy:0.793333\n",
      "Epoch 37, CIFAR-10 Batch 4:  Loss:    0.5895 Validation Accuracy:0.689200 Training Accuracy:0.796667\n",
      "Epoch 37, CIFAR-10 Batch 5:  Loss:    0.6541 Validation Accuracy:0.672800 Training Accuracy:0.770000\n",
      "Epoch 38, CIFAR-10 Batch 1:  Loss:    0.6321 Validation Accuracy:0.685400 Training Accuracy:0.810000\n",
      "Epoch 38, CIFAR-10 Batch 2:  Loss:    0.6838 Validation Accuracy:0.673200 Training Accuracy:0.763333\n",
      "Epoch 38, CIFAR-10 Batch 3:  Loss:    0.6272 Validation Accuracy:0.682800 Training Accuracy:0.780000\n",
      "Epoch 38, CIFAR-10 Batch 4:  Loss:    0.5593 Validation Accuracy:0.689200 Training Accuracy:0.836667\n",
      "Epoch 38, CIFAR-10 Batch 5:  Loss:    0.6434 Validation Accuracy:0.674200 Training Accuracy:0.763333\n",
      "Epoch 39, CIFAR-10 Batch 1:  Loss:    0.6224 Validation Accuracy:0.688600 Training Accuracy:0.786667\n",
      "Epoch 39, CIFAR-10 Batch 2:  Loss:    0.6865 Validation Accuracy:0.672200 Training Accuracy:0.770000\n",
      "Epoch 39, CIFAR-10 Batch 3:  Loss:    0.6122 Validation Accuracy:0.681800 Training Accuracy:0.790000\n",
      "Epoch 39, CIFAR-10 Batch 4:  Loss:    0.5935 Validation Accuracy:0.675600 Training Accuracy:0.803333\n",
      "Epoch 39, CIFAR-10 Batch 5:  Loss:    0.5777 Validation Accuracy:0.685800 Training Accuracy:0.793333\n",
      "Epoch 40, CIFAR-10 Batch 1:  Loss:    0.6275 Validation Accuracy:0.692600 Training Accuracy:0.806667\n",
      "Epoch 40, CIFAR-10 Batch 2:  Loss:    0.6392 Validation Accuracy:0.686000 Training Accuracy:0.783333\n",
      "Epoch 40, CIFAR-10 Batch 3:  Loss:    0.5947 Validation Accuracy:0.676600 Training Accuracy:0.800000\n",
      "Epoch 40, CIFAR-10 Batch 4:  Loss:    0.5573 Validation Accuracy:0.689200 Training Accuracy:0.840000\n",
      "Epoch 40, CIFAR-10 Batch 5:  Loss:    0.5758 Validation Accuracy:0.687400 Training Accuracy:0.796667\n",
      "Epoch 41, CIFAR-10 Batch 1:  Loss:    0.6713 Validation Accuracy:0.678600 Training Accuracy:0.766667\n",
      "Epoch 41, CIFAR-10 Batch 2:  Loss:    0.6517 Validation Accuracy:0.663000 Training Accuracy:0.776667\n",
      "Epoch 41, CIFAR-10 Batch 3:  Loss:    0.5529 Validation Accuracy:0.697800 Training Accuracy:0.846667\n",
      "Epoch 41, CIFAR-10 Batch 4:  Loss:    0.5401 Validation Accuracy:0.686400 Training Accuracy:0.836667\n",
      "Epoch 41, CIFAR-10 Batch 5:  Loss:    0.5836 Validation Accuracy:0.685600 Training Accuracy:0.806667\n",
      "Epoch 42, CIFAR-10 Batch 1:  Loss:    0.6446 Validation Accuracy:0.677400 Training Accuracy:0.783333\n",
      "Epoch 42, CIFAR-10 Batch 2:  Loss:    0.6279 Validation Accuracy:0.695200 Training Accuracy:0.800000\n",
      "Epoch 42, CIFAR-10 Batch 3:  Loss:    0.5832 Validation Accuracy:0.684600 Training Accuracy:0.790000\n",
      "Epoch 42, CIFAR-10 Batch 4:  Loss:    0.5496 Validation Accuracy:0.681200 Training Accuracy:0.813333\n",
      "Epoch 42, CIFAR-10 Batch 5:  Loss:    0.6143 Validation Accuracy:0.680600 Training Accuracy:0.793333\n",
      "Epoch 43, CIFAR-10 Batch 1:  Loss:    0.6257 Validation Accuracy:0.694000 Training Accuracy:0.786667\n",
      "Epoch 43, CIFAR-10 Batch 2:  Loss:    0.6552 Validation Accuracy:0.683200 Training Accuracy:0.773333\n",
      "Epoch 43, CIFAR-10 Batch 3:  Loss:    0.5377 Validation Accuracy:0.688400 Training Accuracy:0.803333\n",
      "Epoch 43, CIFAR-10 Batch 4:  Loss:    0.5529 Validation Accuracy:0.680600 Training Accuracy:0.833333\n",
      "Epoch 43, CIFAR-10 Batch 5:  Loss:    0.5609 Validation Accuracy:0.686600 Training Accuracy:0.810000\n",
      "Epoch 44, CIFAR-10 Batch 1:  Loss:    0.6350 Validation Accuracy:0.666400 Training Accuracy:0.790000\n",
      "Epoch 44, CIFAR-10 Batch 2:  Loss:    0.6211 Validation Accuracy:0.687600 Training Accuracy:0.793333\n",
      "Epoch 44, CIFAR-10 Batch 3:  Loss:    0.5568 Validation Accuracy:0.681600 Training Accuracy:0.810000\n",
      "Epoch 44, CIFAR-10 Batch 4:  Loss:    0.5331 Validation Accuracy:0.678400 Training Accuracy:0.833333\n",
      "Epoch 44, CIFAR-10 Batch 5:  Loss:    0.5718 Validation Accuracy:0.682400 Training Accuracy:0.800000\n",
      "Epoch 45, CIFAR-10 Batch 1:  Loss:    0.5947 Validation Accuracy:0.675400 Training Accuracy:0.806667\n",
      "Epoch 45, CIFAR-10 Batch 2:  Loss:    0.6117 Validation Accuracy:0.690000 Training Accuracy:0.800000\n",
      "Epoch 45, CIFAR-10 Batch 3:  Loss:    0.5533 Validation Accuracy:0.696200 Training Accuracy:0.810000\n",
      "Epoch 45, CIFAR-10 Batch 4:  Loss:    0.5270 Validation Accuracy:0.689800 Training Accuracy:0.843333\n",
      "Epoch 45, CIFAR-10 Batch 5:  Loss:    0.5980 Validation Accuracy:0.678200 Training Accuracy:0.790000\n",
      "Epoch 46, CIFAR-10 Batch 1:  Loss:    0.5877 Validation Accuracy:0.673200 Training Accuracy:0.820000\n",
      "Epoch 46, CIFAR-10 Batch 2:  Loss:    0.6447 Validation Accuracy:0.686600 Training Accuracy:0.760000\n",
      "Epoch 46, CIFAR-10 Batch 3:  Loss:    0.5112 Validation Accuracy:0.694200 Training Accuracy:0.830000\n",
      "Epoch 46, CIFAR-10 Batch 4:  Loss:    0.4992 Validation Accuracy:0.687600 Training Accuracy:0.836667\n",
      "Epoch 46, CIFAR-10 Batch 5:  Loss:    0.5354 Validation Accuracy:0.696400 Training Accuracy:0.820000\n",
      "Epoch 47, CIFAR-10 Batch 1:  Loss:    0.5749 Validation Accuracy:0.678400 Training Accuracy:0.806667\n",
      "Epoch 47, CIFAR-10 Batch 2:  Loss:    0.6427 Validation Accuracy:0.692800 Training Accuracy:0.780000\n",
      "Epoch 47, CIFAR-10 Batch 3:  Loss:    0.5221 Validation Accuracy:0.703200 Training Accuracy:0.806667\n",
      "Epoch 47, CIFAR-10 Batch 4:  Loss:    0.4983 Validation Accuracy:0.690800 Training Accuracy:0.850000\n",
      "Epoch 47, CIFAR-10 Batch 5:  Loss:    0.5489 Validation Accuracy:0.703600 Training Accuracy:0.800000\n",
      "Epoch 48, CIFAR-10 Batch 1:  Loss:    0.5805 Validation Accuracy:0.678800 Training Accuracy:0.800000\n",
      "Epoch 48, CIFAR-10 Batch 2:  Loss:    0.5889 Validation Accuracy:0.687800 Training Accuracy:0.820000\n",
      "Epoch 48, CIFAR-10 Batch 3:  Loss:    0.5278 Validation Accuracy:0.690800 Training Accuracy:0.813333\n",
      "Epoch 48, CIFAR-10 Batch 4:  Loss:    0.5115 Validation Accuracy:0.679400 Training Accuracy:0.833333\n",
      "Epoch 48, CIFAR-10 Batch 5:  Loss:    0.5120 Validation Accuracy:0.698000 Training Accuracy:0.813333\n",
      "Epoch 49, CIFAR-10 Batch 1:  Loss:    0.5819 Validation Accuracy:0.688800 Training Accuracy:0.796667\n",
      "Epoch 49, CIFAR-10 Batch 2:  Loss:    0.5963 Validation Accuracy:0.692200 Training Accuracy:0.793333\n",
      "Epoch 49, CIFAR-10 Batch 3:  Loss:    0.5660 Validation Accuracy:0.688200 Training Accuracy:0.816667\n",
      "Epoch 49, CIFAR-10 Batch 4:  Loss:    0.4794 Validation Accuracy:0.694000 Training Accuracy:0.833333\n",
      "Epoch 49, CIFAR-10 Batch 5:  Loss:    0.5031 Validation Accuracy:0.701200 Training Accuracy:0.830000\n",
      "Epoch 50, CIFAR-10 Batch 1:  Loss:    0.5642 Validation Accuracy:0.679000 Training Accuracy:0.816667\n",
      "Epoch 50, CIFAR-10 Batch 2:  Loss:    0.5722 Validation Accuracy:0.694200 Training Accuracy:0.806667\n",
      "Epoch 50, CIFAR-10 Batch 3:  Loss:    0.5091 Validation Accuracy:0.693800 Training Accuracy:0.830000\n",
      "Epoch 50, CIFAR-10 Batch 4:  Loss:    0.4736 Validation Accuracy:0.692800 Training Accuracy:0.856667\n",
      "Epoch 50, CIFAR-10 Batch 5:  Loss:    0.5318 Validation Accuracy:0.697000 Training Accuracy:0.820000\n"
     ]
    }
   ],
   "source": [
    "\"\"\"\n",
    "DON'T MODIFY ANYTHING IN THIS CELL\n",
    "\"\"\"\n",
    "save_model_path = './image_classification'\n",
    "\n",
    "print('Training...')\n",
    "with tf.Session() as sess:\n",
    "    # Initializing the variables\n",
    "    sess.run(tf.global_variables_initializer())\n",
    "    \n",
    "    # Training cycle\n",
    "    for epoch in range(epochs):\n",
    "        # Loop over all batches\n",
    "        n_batches = 5\n",
    "        for batch_i in range(1, n_batches + 1):\n",
    "            for batch_features, batch_labels in helper.load_preprocess_training_batch(batch_i, batch_size):\n",
    "                train_neural_network(sess, optimizer, keep_probability, batch_features, batch_labels)\n",
    "            print('Epoch {:>2}, CIFAR-10 Batch {}:  '.format(epoch + 1, batch_i), end='')\n",
    "            print_stats(sess, batch_features, batch_labels, cost, accuracy)\n",
    "            \n",
    "    # Save Model\n",
    "    saver = tf.train.Saver()\n",
    "    save_path = saver.save(sess, save_model_path)"
   ]
  },
  {
   "cell_type": "markdown",
   "metadata": {
    "deletable": true,
    "editable": true
   },
   "source": [
    "# Checkpoint\n",
    "The model has been saved to disk.\n",
    "## Test Model\n",
    "Test your model against the test dataset.  This will be your final accuracy. You should have an accuracy greater than 50%. If you don't, keep tweaking the model architecture and parameters."
   ]
  },
  {
   "cell_type": "code",
   "execution_count": 72,
   "metadata": {
    "collapsed": false,
    "deletable": true,
    "editable": true
   },
   "outputs": [
    {
     "name": "stdout",
     "output_type": "stream",
     "text": [
      "Testing Accuracy: 0.6941176337354323\n",
      "\n"
     ]
    },
    {
     "data": {
      "image/png": "[encoded data removed]",
      "text/plain": [
       "<matplotlib.figure.Figure at 0x7fc5ea271ef0>"
      ]
     },
     "metadata": {
      "image/png": {
       "height": 319,
       "width": 355
      }
     },
     "output_type": "display_data"
    }
   ],
   "source": [
    "\"\"\"\n",
    "DON'T MODIFY ANYTHING IN THIS CELL\n",
    "\"\"\"\n",
    "%matplotlib inline\n",
    "%config InlineBackend.figure_format = 'retina'\n",
    "\n",
    "import tensorflow as tf\n",
    "import pickle\n",
    "import helper\n",
    "import random\n",
    "\n",
    "# Set batch size if not already set\n",
    "try:\n",
    "    if batch_size:\n",
    "        pass\n",
    "except NameError:\n",
    "    batch_size = 64\n",
    "\n",
    "save_model_path = './image_classification'\n",
    "n_samples = 4\n",
    "top_n_predictions = 3\n",
    "\n",
    "def test_model():\n",
    "    \"\"\"\n",
    "    Test the saved model against the test dataset\n",
    "    \"\"\"\n",
    "\n",
    "    test_features, test_labels = pickle.load(open('preprocess_training.p', mode='rb'))\n",
    "    loaded_graph = tf.Graph()\n",
    "\n",
    "    with tf.Session(graph=loaded_graph) as sess:\n",
    "        # Load model\n",
    "        loader = tf.train.import_meta_graph(save_model_path + '.meta')\n",
    "        loader.restore(sess, save_model_path)\n",
    "\n",
    "        # Get Tensors from loaded model\n",
    "        loaded_x = loaded_graph.get_tensor_by_name('x:0')\n",
    "        loaded_y = loaded_graph.get_tensor_by_name('y:0')\n",
    "        loaded_keep_prob = loaded_graph.get_tensor_by_name('keep_prob:0')\n",
    "        loaded_logits = loaded_graph.get_tensor_by_name('logits:0')\n",
    "        loaded_acc = loaded_graph.get_tensor_by_name('accuracy:0')\n",
    "        \n",
    "        # Get accuracy in batches for memory limitations\n",
    "        test_batch_acc_total = 0\n",
    "        test_batch_count = 0\n",
    "        \n",
    "        for train_feature_batch, train_label_batch in helper.batch_features_labels(test_features, test_labels, batch_size):\n",
    "            test_batch_acc_total += sess.run(\n",
    "                loaded_acc,\n",
    "                feed_dict={loaded_x: train_feature_batch, loaded_y: train_label_batch, loaded_keep_prob: 1.0})\n",
    "            test_batch_count += 1\n",
    "\n",
    "        print('Testing Accuracy: {}\\n'.format(test_batch_acc_total/test_batch_count))\n",
    "\n",
    "        # Print Random Samples\n",
    "        random_test_features, random_test_labels = tuple(zip(*random.sample(list(zip(test_features, test_labels)), n_samples)))\n",
    "        random_test_predictions = sess.run(\n",
    "            tf.nn.top_k(tf.nn.softmax(loaded_logits), top_n_predictions),\n",
    "            feed_dict={loaded_x: random_test_features, loaded_y: random_test_labels, loaded_keep_prob: 1.0})\n",
    "        helper.display_image_predictions(random_test_features, random_test_labels, random_test_predictions)\n",
    "\n",
    "\n",
    "test_model()"
   ]
  },
  {
   "cell_type": "markdown",
   "metadata": {
    "deletable": true,
    "editable": true
   },
   "source": [
    "## Why 50-70% Accuracy?\n",
    "You might be wondering why you can't get an accuracy any higher. First things first, 50% isn't bad for a simple CNN.  Pure guessing would get you 10% accuracy. However, you might notice people are getting scores [well above 70%](http://rodrigob.github.io/are_we_there_yet/build/classification_datasets_results.html#43494641522d3130).  That's because we haven't taught you all there is to know about neural networks. We still need to cover a few more techniques.\n",
    "## Submitting This Project\n",
    "When submitting this project, make sure to run all the cells before saving the notebook.  Save the notebook file as \"dlnd_image_classification.ipynb\" and save it as a HTML file under \"File\" -> \"Download as\".  Include the \"helper.py\" and \"problem_unittests.py\" files in your submission."
   ]
  }
 ],
 "metadata": {
  "kernelspec": {
   "display_name": "Python 3",
   "language": "python",
   "name": "python3"
  },
  "language_info": {
   "codemirror_mode": {
    "name": "ipython",
    "version": 3
   },
   "file_extension": ".py",
   "mimetype": "text/x-python",
   "name": "python",
   "nbconvert_exporter": "python",
   "pygments_lexer": "ipython3",
   "version": "3.5.2"
  }
 },
 "nbformat": 4,
 "nbformat_minor": 0
}
